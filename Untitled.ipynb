{
 "cells": [
  {
   "cell_type": "code",
   "execution_count": 6,
   "id": "b3c8feae-3a56-4992-9494-ac2c1a567894",
   "metadata": {},
   "outputs": [
    {
     "ename": "ModuleNotFoundError",
     "evalue": "No module named 'fbprophet'",
     "output_type": "error",
     "traceback": [
      "\u001b[0;31m---------------------------------------------------------------------------\u001b[0m",
      "\u001b[0;31mModuleNotFoundError\u001b[0m                       Traceback (most recent call last)",
      "Input \u001b[0;32mIn [6]\u001b[0m, in \u001b[0;36m<cell line: 7>\u001b[0;34m()\u001b[0m\n\u001b[1;32m      4\u001b[0m \u001b[38;5;28;01mfrom\u001b[39;00m \u001b[38;5;21;01mdatetime\u001b[39;00m \u001b[38;5;28;01mimport\u001b[39;00m date, timedelta\n\u001b[1;32m      5\u001b[0m \u001b[38;5;28;01mimport\u001b[39;00m \u001b[38;5;21;01mmatplotlib\u001b[39;00m\u001b[38;5;21;01m.\u001b[39;00m\u001b[38;5;21;01mpyplot\u001b[39;00m \u001b[38;5;28;01mas\u001b[39;00m \u001b[38;5;21;01mplt\u001b[39;00m\n\u001b[0;32m----> 7\u001b[0m \u001b[38;5;28;01mfrom\u001b[39;00m \u001b[38;5;21;01mfbprophet\u001b[39;00m \u001b[38;5;28;01mimport\u001b[39;00m Prophet\n\u001b[1;32m      8\u001b[0m \u001b[38;5;28;01mfrom\u001b[39;00m \u001b[38;5;21;01mfbprophet\u001b[39;00m\u001b[38;5;21;01m.\u001b[39;00m\u001b[38;5;21;01mplot\u001b[39;00m \u001b[38;5;28;01mimport\u001b[39;00m plot_plotly\n\u001b[1;32m      9\u001b[0m \u001b[38;5;28;01mfrom\u001b[39;00m \u001b[38;5;21;01mplotly\u001b[39;00m \u001b[38;5;28;01mimport\u001b[39;00m graph_objs \u001b[38;5;28;01mas\u001b[39;00m go\n",
      "\u001b[0;31mModuleNotFoundError\u001b[0m: No module named 'fbprophet'"
     ]
    }
   ],
   "source": [
    "import streamlit as st\n",
    "import numpy as np\n",
    "import pandas as pd\n",
    "from datetime import date, timedelta\n",
    "import matplotlib.pyplot as plt\n",
    "\n",
    "from fbprophet import Prophet\n",
    "from fbprophet.plot import plot_plotly\n",
    "from plotly import graph_objs as go\n",
    "\n"
   ]
  },
  {
   "cell_type": "code",
   "execution_count": null,
   "id": "49779329-fa18-4fcd-b06b-14fb3c2b4f01",
   "metadata": {},
   "outputs": [],
   "source": []
  },
  {
   "cell_type": "code",
   "execution_count": 5,
   "id": "e9567092-d641-4fe9-97a0-92a1f8f32029",
   "metadata": {},
   "outputs": [],
   "source": [
    "nInst = 100\n",
    "currentPos = np.zeros(nInst)\n",
    "\n",
    "START = \"2015-01-01\"\n",
    "TODAY = date.today().strftime(\"%Y-%m-%d\")\n",
    "\n",
    "\n",
    "def getMyPosition(prcSoFar):\n",
    "    global currentPos\n",
    "\n",
    "    def loadPrices(fn):  # grabs prices from prices.txt\n",
    "        global nt, nInst\n",
    "        df = pd.read_csv(fn, sep='\\s+', header=None, index_col=None)\n",
    "        nt, nInst = df.values.shape\n",
    "        return (df.values).T\n",
    "\n",
    "    pricesFile = \"./prices.txt\"\n",
    "    prcAll = loadPrices(pricesFile)  # data stored in prcAll\n",
    "\n",
    "    #-------------------------------------------------------------for the dates\n",
    "    def daterange(start_date, end_date):\n",
    "        for n in range(int((end_date - start_date).days)):\n",
    "            yield start_date + timedelta(n)\n",
    "    dates = []\n",
    "    start_date = date(2015, 1, 1)\n",
    "    end_date = date(2015, 9, 9)\n",
    "    for single_date in daterange(start_date, end_date):\n",
    "        dates.append(single_date.strftime(\"%Y-%m-%d\"))\n",
    "    #--------------------------------------------------------------\n",
    "\n",
    "    dicDates = pd.DataFrame(dates)      #this section is making the dataframe of 1 stock\n",
    "    d = dict(enumerate(prcAll[0].flatten(), 1))\n",
    "    df = pd.DataFrame(d, index=['ds','y'])\n",
    "    df = df.transpose()\n",
    "    df['ds'] = dicDates                 #adding the dates column in for .fit() requirements\n",
    "\n",
    "\n",
    "    df_train = df\n",
    "    df_train = df_train.rename(columns={\"Date\": \"y\", \"Close\": \"ds\"})\n",
    "\n",
    "    print(df_train)\n",
    "\n",
    "    m = Prophet()\n",
    "    m.fit(df_train)                     #now i have to compile results\n",
    "    future = m.make_future_dataframe(periods=1)\n",
    "    forecast = m.predict(future)\n",
    "\n",
    "    pd.set_option(\"display.max_rows\", None, \"display.max_columns\", None)\n",
    "\n",
    "    print(forecast)\n",
    "    a = forecast['yhat']\n",
    "    b = prcAll[0]\n",
    "    plt.plot(a)\n",
    "    plt.plot(b)\n",
    "    plt.grid()\n",
    "    plt.show()\n",
    "\n",
    "    return currentPos\n",
    "\n",
    "# graphs\n",
    "# a = prcAll[20]\n",
    "# plt.plot(a)\n",
    "# plt.grid()\n",
    "# plt.show()\n",
    "\n",
    "# df = pd.DataFrame(pChange)\n",
    "# print(df)\n"
   ]
  },
  {
   "cell_type": "code",
   "execution_count": null,
   "id": "2541b42b-38de-4d09-bb9c-172d15673fa4",
   "metadata": {},
   "outputs": [],
   "source": []
  }
 ],
 "metadata": {
  "kernelspec": {
   "display_name": "Python 3 (ipykernel)",
   "language": "python",
   "name": "python3"
  },
  "language_info": {
   "codemirror_mode": {
    "name": "ipython",
    "version": 3
   },
   "file_extension": ".py",
   "mimetype": "text/x-python",
   "name": "python",
   "nbconvert_exporter": "python",
   "pygments_lexer": "ipython3",
   "version": "3.9.12"
  }
 },
 "nbformat": 4,
 "nbformat_minor": 5
}
